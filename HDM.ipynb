{
 "cells": [
  {
   "cell_type": "markdown",
   "id": "7846d804",
   "metadata": {},
   "source": [
    "This notbook is used to run the HDOCK-Multimer (HDM) modeling pipeline, which integrates docking and assembly strategies for predicting large protein assembly structures. \n",
    "\n",
    "By default, the notebook runs on an example [PDB: 7D3U](https://www.rcsb.org/structure/7D3U), but by uploading your own stoi.json and .PDB files to Google Drive, you can predict your complex by changing the path in the \"Run\" cell, as instructed in the cell.\n",
    "\n",
    "**Inputs:** \\\n",
    " 1.stoi.json - a JSON file recording stoichiometry and subunit information of the complex.\\\n",
    " 2.mono_files/ - a folder containing AlphaFold2-predicted monomer files.\\\n",
    " 3.subcomponents/ - a folder containing AlphaFold-Multimer-predicted subcomponent files. \\\n",
    "\n",
    "**Outputs:** \\\n",
    "A series of .PDB files containing the structures of the full complex.\n",
    "\n",
    "For more information, see [HDOCK-Multimer](https://github.com/xyao7/HDOCK-Multimer).\n"
   ]
  },
  {
   "cell_type": "code",
   "execution_count": null,
   "id": "f2fb7a7d",
   "metadata": {
    "vscode": {
     "languageId": "plaintext"
    }
   },
   "outputs": [],
   "source": [
    "#@title Download and install HDM (~2 min)\n",
    "!pip -q install -U \"git+https://github.com/openmm/pdbfixer.git\"\n",
    "!pip -q install py3Dmol\n",
    "!echo Installed python dependencies\n",
    "\n",
    "!echo Install HDM\n",
    "!wget -qnc https://github.com/xyao7/HDOCK-Multimer/archive/refs/heads/main.zip -O HDM-master.zip \n",
    "!unzip -q HDM-master.zip \n",
    "!cd HDOCK-Multimer-main && bash setup.sh \n",
    "!echo HDM Installed Successfully!\n",
    "\n",
    "import py3Dmol\n",
    "import os\n",
    "\n",
    "def view_pdb_color_by_chain(pdb_path: str):\n",
    "  pdb_content = open(pdb_path, \"r\").read()\n",
    "  view = py3Dmol.view(width=400, height=300)\n",
    "  view.addModelsAsFrames(pdb_content)\n",
    "\n",
    "  # Get the list of chains in the protein\n",
    "  chains = {i[21] for i in pdb_content.split(\"\\n\") if len(i) > 21}\n",
    "\n",
    "  # Assign a color to each chain\n",
    "  colors = [\"red\", \"blue\", \"green\", \"orange\", \"purple\", \"yellow\", \"pink\", \"brown\", \"black\", \"gray\", \"cyan\", \"magenta\", \"olive\", \"maroon\", \"navy\", \"teal\", \"gold\", \"silver\", \"crimson\"]\n",
    "  colors = 10 * colors\n",
    "\n",
    "  # Set the style for each chain\n",
    "  for i, chain in enumerate(chains):\n",
    "      view.setStyle({'chain': chain}, {'cartoon': {'color': colors[i]}})\n",
    "\n",
    "  view.zoomTo()\n",
    "  view.show()"
   ]
  },
  {
   "cell_type": "code",
   "execution_count": null,
   "id": "6acdc0b5",
   "metadata": {
    "vscode": {
     "languageId": "plaintext"
    }
   },
   "outputs": [],
   "source": [
    "#@title View example elements {run: \"auto\"}\n",
    "\n",
    "#@markdown  Here we demonstrate the input used to create a model of [PDB: 7D3U](https://www.rcsb.org/structure/7D3U), which is composed of 6 different chains.\n",
    "\n",
    "#@markdown  - stoi.json - Defines the stoichiometry and subunits information.\n",
    "\n",
    "#@markdown  - pdb files - Comprises of two categories:\n",
    "#@markdown  1. monomer files (saved in the `mono_files/` folder): monomer models predicted by AlphaFold2 (AF2)\\\n",
    "#@markdown  2. subcomponent files (saved in the `subcomponents/` folder): subcomponent models predicted by AlphaFold-Multimer (AFM)\\\n",
    "\n",
    "#@markdown  You can view elements in the input by choosing them and running the cell.\n",
    "\n",
    "element_to_view = \"stoi.json\" #@param [\"stoi.json\", \"mono_files/A.pdb\", \"mono_files/B.pdb\", \"mono_files/C.pdb\", \"mono_files/D.pdb\", \"mono_files/E.pdb\", \"mono_files/F.pdb\", \"subcomponents/7D3U_ABC.pdb\", \"subcomponents/7D3U_ABD.pdb\", \"subcomponents/7D3U_ABE.pdb\", \"subcomponents/7D3U_ABF.pdb\", \"subcomponents/7D3U_ACD.pdb\", \"subcomponents/7D3U_ACE.pdb\", \"subcomponents/7D3U_ACF.pdb\", \"subcomponents/7D3U_ADE.pdb\", \"subcomponents/7D3U_ADF.pdb\", \"subcomponents/7D3U_AEF.pdb\", \"subcomponents/7D3U_BCD.pdb\", \"subcomponents/7D3U_BCE.pdb\", \"subcomponents/7D3U_BCF.pdb\", \"subcomponents/7D3U_BDE.pdb\", \"subcomponents/7D3U_BDF.pdb\", \"subcomponents/7D3U_BEF.pdb\", \"subcomponents/7D3U_CDE.pdb\", \"subcomponents/7D3U_CDF.pdb\", \"subcomponents/7D3U_CEF.pdb\", \"subcomponents/7D3U_DEF.pdb\"]\n",
    "\n",
    "example_path = \"/content/HDOCK-Multimer-main/examples/7D3U\"\n",
    "\n",
    "stoi_path = os.path.join(example_path, \"stoi.json\")\n",
    "if element_to_view == \"stoi.json\":\n",
    "  print(open(stoi_path, 'r').read())\n",
    "else:\n",
    "  view_pdb_color_by_chain(os.path.join(example_path, element_to_view))\n"
   ]
  },
  {
   "cell_type": "code",
   "execution_count": null,
   "id": "4bc3bc0d",
   "metadata": {
    "vscode": {
     "languageId": "plaintext"
    }
   },
   "outputs": [],
   "source": [
    "#@title Run HDM\n",
    "\n",
    "#@markdown The folder `path_task/` should have:\n",
    "#@markdown (1) a file named \"stoi.json\" recording the stoichiometry and subunit information\n",
    "#@markdown (2) a folder named \"mono_files/\" storing monomer structure files predicted by AF2\n",
    "#@markdown and (3) a folder named \"subcomponents/\" storing subcomponent structure files predicted by AFM.\n",
    "\n",
    "#@markdown The results will be saved to a new folder named \"results\", under the folder `path_task/`.\n",
    "\n",
    "import os \n",
    "\n",
    "path_task=\"/content/HDOCK-Multimer-main/examples/7D3U/\" #@param {type:\"string\"}\n",
    "max_results_number = \"10\" #@param[1, 5, 10, 20]\n",
    "\n",
    "!bash HDOCK-Multimer-main/HDM_pipeline.sh \\\n",
    "  -stoi \"{path_task}/stoi.json\" \\\n",
    "  -mono_dir \"{path_task}/mono_files/\" \\\n",
    "  -sub_dir \"{path_task}/subcomponents/\" \\\n",
    "  -nmax {max_results_number}\n"
   ]
  },
  {
   "cell_type": "code",
   "execution_count": null,
   "id": "e13a596a",
   "metadata": {
    "vscode": {
     "languageId": "plaintext"
    }
   },
   "outputs": [],
   "source": [
    "#@title Display output 3D structure models {run: \"auto\"}\n",
    "model_num = \"1\" #@param [1, 2, 3, 4, 5, 6, 7, 8, 9, 10]\n",
    "model_num = int(model_num)\n",
    "\n",
    "result_path = os.path.join(path_task, \"results\")\n",
    "output_filenames = [i for i in os.listdir(result_path) if i.endswith(\".pdb\")]\n",
    "assert model_num < len(output_filenames), f\"Only have {len(output_filenames)} models\"\n",
    "output_path = os.path.join(result_path, f\"model_{model_num}.pdb\")\n",
    "\n",
    "view_pdb_color_by_chain(output_path)\n"
   ]
  }
 ],
 "metadata": {
  "language_info": {
   "name": "python"
  }
 },
 "nbformat": 4,
 "nbformat_minor": 5
}
